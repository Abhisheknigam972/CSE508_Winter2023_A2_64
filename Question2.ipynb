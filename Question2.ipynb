{
  "cells": [
    {
      "cell_type": "code",
      "execution_count": null,
      "metadata": {
        "colab": {
          "base_uri": "https://localhost:8080/"
        },
        "id": "G9yxanlWhCT4",
        "outputId": "7dfff6e8-345c-4743-d9f6-407534d9a1dd"
      },
      "outputs": [
        {
          "output_type": "stream",
          "name": "stderr",
          "text": [
            "[nltk_data] Downloading package stopwords to /root/nltk_data...\n",
            "[nltk_data]   Unzipping corpora/stopwords.zip.\n",
            "[nltk_data] Downloading package punkt to /root/nltk_data...\n",
            "[nltk_data]   Unzipping tokenizers/punkt.zip.\n",
            "[nltk_data] Downloading package wordnet to /root/nltk_data...\n"
          ]
        }
      ],
      "source": [
        "import pandas as pd;\n",
        "import nltk\n",
        "import re\n",
        "import string\n",
        "import numpy as np\n",
        "string.punctuation\n",
        "from sklearn.model_selection import train_test_split\n",
        "from sklearn.metrics import confusion_matrix, accuracy_score,precision_score,recall_score,f1_score\n",
        "from sklearn.feature_extraction.text import TfidfVectorizer\n",
        "from sklearn.naive_bayes import MultinomialNB\n",
        "from nltk.tokenize import word_tokenize\n",
        "from nltk.corpus import stopwords\n",
        "from nltk.stem import PorterStemmer\n",
        "from nltk.stem import WordNetLemmatizer\n",
        "from sklearn.feature_extraction.text import CountVectorizer\n",
        "from sklearn.feature_extraction.text import TfidfTransformer\n",
        "from sklearn.naive_bayes import MultinomialNB\n",
        "from scipy.sparse import csr_matrix\n",
        "from sklearn.naive_bayes import MultinomialNB\n",
        "from sklearn import metrics\n",
        "\n",
        "\n",
        "nltk.download('stopwords')\n",
        "nltk.download('punkt')\n",
        "nltk.download('wordnet')\n",
        "\n",
        "\n",
        "\n",
        "\n",
        "import warnings\n",
        "warnings.filterwarnings('ignore')"
      ]
    },
    {
      "cell_type": "code",
      "execution_count": null,
      "metadata": {
        "colab": {
          "base_uri": "https://localhost:8080/",
          "height": 363
        },
        "id": "7N6PXXNo2YfX",
        "outputId": "0900b839-5b24-4d5f-b24d-0d2476a41b84"
      },
      "outputs": [
        {
          "output_type": "execute_result",
          "data": {
            "text/plain": [
              "   ArticleId                                               Text       Category\n",
              "0       1833  worldcom ex-boss launches defence lawyers defe...       business\n",
              "1        154  german business confidence slides german busin...       business\n",
              "2       1101  bbc poll indicates economic gloom citizens in ...       business\n",
              "3       1976  lifestyle  governs mobile choice  faster  bett...           tech\n",
              "4        917  enron bosses in $168m payout eighteen former e...       business\n",
              "5       1582  howard  truanted to play snooker  conservative...       politics\n",
              "6        651  wales silent on grand slam talk rhys williams ...          sport\n",
              "7       1797  french honour for director parker british film...  entertainment\n",
              "8       2034  car giant hit by mercedes slump a slump in pro...       business\n",
              "9       1866  fockers fuel festive film chart comedy meet th...  entertainment"
            ],
            "text/html": [
              "\n",
              "  <div id=\"df-6873f50f-633f-4250-b072-cec32e006632\">\n",
              "    <div class=\"colab-df-container\">\n",
              "      <div>\n",
              "<style scoped>\n",
              "    .dataframe tbody tr th:only-of-type {\n",
              "        vertical-align: middle;\n",
              "    }\n",
              "\n",
              "    .dataframe tbody tr th {\n",
              "        vertical-align: top;\n",
              "    }\n",
              "\n",
              "    .dataframe thead th {\n",
              "        text-align: right;\n",
              "    }\n",
              "</style>\n",
              "<table border=\"1\" class=\"dataframe\">\n",
              "  <thead>\n",
              "    <tr style=\"text-align: right;\">\n",
              "      <th></th>\n",
              "      <th>ArticleId</th>\n",
              "      <th>Text</th>\n",
              "      <th>Category</th>\n",
              "    </tr>\n",
              "  </thead>\n",
              "  <tbody>\n",
              "    <tr>\n",
              "      <th>0</th>\n",
              "      <td>1833</td>\n",
              "      <td>worldcom ex-boss launches defence lawyers defe...</td>\n",
              "      <td>business</td>\n",
              "    </tr>\n",
              "    <tr>\n",
              "      <th>1</th>\n",
              "      <td>154</td>\n",
              "      <td>german business confidence slides german busin...</td>\n",
              "      <td>business</td>\n",
              "    </tr>\n",
              "    <tr>\n",
              "      <th>2</th>\n",
              "      <td>1101</td>\n",
              "      <td>bbc poll indicates economic gloom citizens in ...</td>\n",
              "      <td>business</td>\n",
              "    </tr>\n",
              "    <tr>\n",
              "      <th>3</th>\n",
              "      <td>1976</td>\n",
              "      <td>lifestyle  governs mobile choice  faster  bett...</td>\n",
              "      <td>tech</td>\n",
              "    </tr>\n",
              "    <tr>\n",
              "      <th>4</th>\n",
              "      <td>917</td>\n",
              "      <td>enron bosses in $168m payout eighteen former e...</td>\n",
              "      <td>business</td>\n",
              "    </tr>\n",
              "    <tr>\n",
              "      <th>5</th>\n",
              "      <td>1582</td>\n",
              "      <td>howard  truanted to play snooker  conservative...</td>\n",
              "      <td>politics</td>\n",
              "    </tr>\n",
              "    <tr>\n",
              "      <th>6</th>\n",
              "      <td>651</td>\n",
              "      <td>wales silent on grand slam talk rhys williams ...</td>\n",
              "      <td>sport</td>\n",
              "    </tr>\n",
              "    <tr>\n",
              "      <th>7</th>\n",
              "      <td>1797</td>\n",
              "      <td>french honour for director parker british film...</td>\n",
              "      <td>entertainment</td>\n",
              "    </tr>\n",
              "    <tr>\n",
              "      <th>8</th>\n",
              "      <td>2034</td>\n",
              "      <td>car giant hit by mercedes slump a slump in pro...</td>\n",
              "      <td>business</td>\n",
              "    </tr>\n",
              "    <tr>\n",
              "      <th>9</th>\n",
              "      <td>1866</td>\n",
              "      <td>fockers fuel festive film chart comedy meet th...</td>\n",
              "      <td>entertainment</td>\n",
              "    </tr>\n",
              "  </tbody>\n",
              "</table>\n",
              "</div>\n",
              "      <button class=\"colab-df-convert\" onclick=\"convertToInteractive('df-6873f50f-633f-4250-b072-cec32e006632')\"\n",
              "              title=\"Convert this dataframe to an interactive table.\"\n",
              "              style=\"display:none;\">\n",
              "        \n",
              "  <svg xmlns=\"http://www.w3.org/2000/svg\" height=\"24px\"viewBox=\"0 0 24 24\"\n",
              "       width=\"24px\">\n",
              "    <path d=\"M0 0h24v24H0V0z\" fill=\"none\"/>\n",
              "    <path d=\"M18.56 5.44l.94 2.06.94-2.06 2.06-.94-2.06-.94-.94-2.06-.94 2.06-2.06.94zm-11 1L8.5 8.5l.94-2.06 2.06-.94-2.06-.94L8.5 2.5l-.94 2.06-2.06.94zm10 10l.94 2.06.94-2.06 2.06-.94-2.06-.94-.94-2.06-.94 2.06-2.06.94z\"/><path d=\"M17.41 7.96l-1.37-1.37c-.4-.4-.92-.59-1.43-.59-.52 0-1.04.2-1.43.59L10.3 9.45l-7.72 7.72c-.78.78-.78 2.05 0 2.83L4 21.41c.39.39.9.59 1.41.59.51 0 1.02-.2 1.41-.59l7.78-7.78 2.81-2.81c.8-.78.8-2.07 0-2.86zM5.41 20L4 18.59l7.72-7.72 1.47 1.35L5.41 20z\"/>\n",
              "  </svg>\n",
              "      </button>\n",
              "      \n",
              "  <style>\n",
              "    .colab-df-container {\n",
              "      display:flex;\n",
              "      flex-wrap:wrap;\n",
              "      gap: 12px;\n",
              "    }\n",
              "\n",
              "    .colab-df-convert {\n",
              "      background-color: #E8F0FE;\n",
              "      border: none;\n",
              "      border-radius: 50%;\n",
              "      cursor: pointer;\n",
              "      display: none;\n",
              "      fill: #1967D2;\n",
              "      height: 32px;\n",
              "      padding: 0 0 0 0;\n",
              "      width: 32px;\n",
              "    }\n",
              "\n",
              "    .colab-df-convert:hover {\n",
              "      background-color: #E2EBFA;\n",
              "      box-shadow: 0px 1px 2px rgba(60, 64, 67, 0.3), 0px 1px 3px 1px rgba(60, 64, 67, 0.15);\n",
              "      fill: #174EA6;\n",
              "    }\n",
              "\n",
              "    [theme=dark] .colab-df-convert {\n",
              "      background-color: #3B4455;\n",
              "      fill: #D2E3FC;\n",
              "    }\n",
              "\n",
              "    [theme=dark] .colab-df-convert:hover {\n",
              "      background-color: #434B5C;\n",
              "      box-shadow: 0px 1px 3px 1px rgba(0, 0, 0, 0.15);\n",
              "      filter: drop-shadow(0px 1px 2px rgba(0, 0, 0, 0.3));\n",
              "      fill: #FFFFFF;\n",
              "    }\n",
              "  </style>\n",
              "\n",
              "      <script>\n",
              "        const buttonEl =\n",
              "          document.querySelector('#df-6873f50f-633f-4250-b072-cec32e006632 button.colab-df-convert');\n",
              "        buttonEl.style.display =\n",
              "          google.colab.kernel.accessAllowed ? 'block' : 'none';\n",
              "\n",
              "        async function convertToInteractive(key) {\n",
              "          const element = document.querySelector('#df-6873f50f-633f-4250-b072-cec32e006632');\n",
              "          const dataTable =\n",
              "            await google.colab.kernel.invokeFunction('convertToInteractive',\n",
              "                                                     [key], {});\n",
              "          if (!dataTable) return;\n",
              "\n",
              "          const docLinkHtml = 'Like what you see? Visit the ' +\n",
              "            '<a target=\"_blank\" href=https://colab.research.google.com/notebooks/data_table.ipynb>data table notebook</a>'\n",
              "            + ' to learn more about interactive tables.';\n",
              "          element.innerHTML = '';\n",
              "          dataTable['output_type'] = 'display_data';\n",
              "          await google.colab.output.renderOutput(dataTable, element);\n",
              "          const docLink = document.createElement('div');\n",
              "          docLink.innerHTML = docLinkHtml;\n",
              "          element.appendChild(docLink);\n",
              "        }\n",
              "      </script>\n",
              "    </div>\n",
              "  </div>\n",
              "  "
            ]
          },
          "metadata": {},
          "execution_count": 2
        }
      ],
      "source": [
        "df = pd.read_csv(\"/content/drive/MyDrive/Information_retrieval/A2_Q2.csv\", encoding = \"ISO-8859-1\")\n",
        "df.head(10)"
      ]
    },
    {
      "cell_type": "code",
      "execution_count": null,
      "metadata": {
        "colab": {
          "base_uri": "https://localhost:8080/"
        },
        "id": "LS00WU-h2YiR",
        "outputId": "4437903f-5fa2-4496-c2be-83b1c7dcd049"
      },
      "outputs": [
        {
          "output_type": "execute_result",
          "data": {
            "text/plain": [
              "ArticleId    0\n",
              "Text         0\n",
              "Category     0\n",
              "dtype: int64"
            ]
          },
          "metadata": {},
          "execution_count": 3
        }
      ],
      "source": [
        "# Checking NULL values of each column\n",
        "\n",
        "df.isnull().sum()"
      ]
    },
    {
      "cell_type": "code",
      "execution_count": null,
      "metadata": {
        "id": "Czhnf-cPYf-_"
      },
      "outputs": [],
      "source": [
        "# Dropping the column\n",
        "\n",
        "df = df.drop(['ArticleId'], axis=1)"
      ]
    },
    {
      "cell_type": "code",
      "execution_count": null,
      "metadata": {
        "colab": {
          "base_uri": "https://localhost:8080/",
          "height": 206
        },
        "id": "zLhWBSyh2Ykx",
        "outputId": "b1be24fd-413b-45f5-e1ac-e0d77a9d1757"
      },
      "outputs": [
        {
          "output_type": "execute_result",
          "data": {
            "text/plain": [
              "                                                Text  Category\n",
              "0  worldcom exboss launches defence lawyers defen...  business\n",
              "1  german business confidence slides german busin...  business\n",
              "2  bbc poll indicates economic gloom citizens in ...  business\n",
              "3  lifestyle  governs mobile choice  faster  bett...      tech\n",
              "4  enron bosses in 168m payout eighteen former en...  business"
            ],
            "text/html": [
              "\n",
              "  <div id=\"df-2d6e0635-a976-49cb-9b35-8fbb92c10468\">\n",
              "    <div class=\"colab-df-container\">\n",
              "      <div>\n",
              "<style scoped>\n",
              "    .dataframe tbody tr th:only-of-type {\n",
              "        vertical-align: middle;\n",
              "    }\n",
              "\n",
              "    .dataframe tbody tr th {\n",
              "        vertical-align: top;\n",
              "    }\n",
              "\n",
              "    .dataframe thead th {\n",
              "        text-align: right;\n",
              "    }\n",
              "</style>\n",
              "<table border=\"1\" class=\"dataframe\">\n",
              "  <thead>\n",
              "    <tr style=\"text-align: right;\">\n",
              "      <th></th>\n",
              "      <th>Text</th>\n",
              "      <th>Category</th>\n",
              "    </tr>\n",
              "  </thead>\n",
              "  <tbody>\n",
              "    <tr>\n",
              "      <th>0</th>\n",
              "      <td>worldcom exboss launches defence lawyers defen...</td>\n",
              "      <td>business</td>\n",
              "    </tr>\n",
              "    <tr>\n",
              "      <th>1</th>\n",
              "      <td>german business confidence slides german busin...</td>\n",
              "      <td>business</td>\n",
              "    </tr>\n",
              "    <tr>\n",
              "      <th>2</th>\n",
              "      <td>bbc poll indicates economic gloom citizens in ...</td>\n",
              "      <td>business</td>\n",
              "    </tr>\n",
              "    <tr>\n",
              "      <th>3</th>\n",
              "      <td>lifestyle  governs mobile choice  faster  bett...</td>\n",
              "      <td>tech</td>\n",
              "    </tr>\n",
              "    <tr>\n",
              "      <th>4</th>\n",
              "      <td>enron bosses in 168m payout eighteen former en...</td>\n",
              "      <td>business</td>\n",
              "    </tr>\n",
              "  </tbody>\n",
              "</table>\n",
              "</div>\n",
              "      <button class=\"colab-df-convert\" onclick=\"convertToInteractive('df-2d6e0635-a976-49cb-9b35-8fbb92c10468')\"\n",
              "              title=\"Convert this dataframe to an interactive table.\"\n",
              "              style=\"display:none;\">\n",
              "        \n",
              "  <svg xmlns=\"http://www.w3.org/2000/svg\" height=\"24px\"viewBox=\"0 0 24 24\"\n",
              "       width=\"24px\">\n",
              "    <path d=\"M0 0h24v24H0V0z\" fill=\"none\"/>\n",
              "    <path d=\"M18.56 5.44l.94 2.06.94-2.06 2.06-.94-2.06-.94-.94-2.06-.94 2.06-2.06.94zm-11 1L8.5 8.5l.94-2.06 2.06-.94-2.06-.94L8.5 2.5l-.94 2.06-2.06.94zm10 10l.94 2.06.94-2.06 2.06-.94-2.06-.94-.94-2.06-.94 2.06-2.06.94z\"/><path d=\"M17.41 7.96l-1.37-1.37c-.4-.4-.92-.59-1.43-.59-.52 0-1.04.2-1.43.59L10.3 9.45l-7.72 7.72c-.78.78-.78 2.05 0 2.83L4 21.41c.39.39.9.59 1.41.59.51 0 1.02-.2 1.41-.59l7.78-7.78 2.81-2.81c.8-.78.8-2.07 0-2.86zM5.41 20L4 18.59l7.72-7.72 1.47 1.35L5.41 20z\"/>\n",
              "  </svg>\n",
              "      </button>\n",
              "      \n",
              "  <style>\n",
              "    .colab-df-container {\n",
              "      display:flex;\n",
              "      flex-wrap:wrap;\n",
              "      gap: 12px;\n",
              "    }\n",
              "\n",
              "    .colab-df-convert {\n",
              "      background-color: #E8F0FE;\n",
              "      border: none;\n",
              "      border-radius: 50%;\n",
              "      cursor: pointer;\n",
              "      display: none;\n",
              "      fill: #1967D2;\n",
              "      height: 32px;\n",
              "      padding: 0 0 0 0;\n",
              "      width: 32px;\n",
              "    }\n",
              "\n",
              "    .colab-df-convert:hover {\n",
              "      background-color: #E2EBFA;\n",
              "      box-shadow: 0px 1px 2px rgba(60, 64, 67, 0.3), 0px 1px 3px 1px rgba(60, 64, 67, 0.15);\n",
              "      fill: #174EA6;\n",
              "    }\n",
              "\n",
              "    [theme=dark] .colab-df-convert {\n",
              "      background-color: #3B4455;\n",
              "      fill: #D2E3FC;\n",
              "    }\n",
              "\n",
              "    [theme=dark] .colab-df-convert:hover {\n",
              "      background-color: #434B5C;\n",
              "      box-shadow: 0px 1px 3px 1px rgba(0, 0, 0, 0.15);\n",
              "      filter: drop-shadow(0px 1px 2px rgba(0, 0, 0, 0.3));\n",
              "      fill: #FFFFFF;\n",
              "    }\n",
              "  </style>\n",
              "\n",
              "      <script>\n",
              "        const buttonEl =\n",
              "          document.querySelector('#df-2d6e0635-a976-49cb-9b35-8fbb92c10468 button.colab-df-convert');\n",
              "        buttonEl.style.display =\n",
              "          google.colab.kernel.accessAllowed ? 'block' : 'none';\n",
              "\n",
              "        async function convertToInteractive(key) {\n",
              "          const element = document.querySelector('#df-2d6e0635-a976-49cb-9b35-8fbb92c10468');\n",
              "          const dataTable =\n",
              "            await google.colab.kernel.invokeFunction('convertToInteractive',\n",
              "                                                     [key], {});\n",
              "          if (!dataTable) return;\n",
              "\n",
              "          const docLinkHtml = 'Like what you see? Visit the ' +\n",
              "            '<a target=\"_blank\" href=https://colab.research.google.com/notebooks/data_table.ipynb>data table notebook</a>'\n",
              "            + ' to learn more about interactive tables.';\n",
              "          element.innerHTML = '';\n",
              "          dataTable['output_type'] = 'display_data';\n",
              "          await google.colab.output.renderOutput(dataTable, element);\n",
              "          const docLink = document.createElement('div');\n",
              "          docLink.innerHTML = docLinkHtml;\n",
              "          element.appendChild(docLink);\n",
              "        }\n",
              "      </script>\n",
              "    </div>\n",
              "  </div>\n",
              "  "
            ]
          },
          "metadata": {},
          "execution_count": 5
        }
      ],
      "source": [
        "# Removing punctuation\n",
        "\n",
        "def remove_punctuation(text):\n",
        "    punctuationfree=\"\".join([i for i in text if i not in string.punctuation])\n",
        "    return punctuationfree\n",
        "\n",
        "# Storing the puntuation free text\n",
        "\n",
        "df['Text']= df['Text'].apply(lambda x:remove_punctuation(x))\n",
        "df.head()"
      ]
    },
    {
      "cell_type": "code",
      "execution_count": null,
      "metadata": {
        "colab": {
          "base_uri": "https://localhost:8080/",
          "height": 206
        },
        "id": "5WUXmM9N2Ym4",
        "outputId": "1c5ed670-f248-45b8-d060-abca6e8adc9f"
      },
      "outputs": [
        {
          "output_type": "execute_result",
          "data": {
            "text/plain": [
              "                                                Text  Category\n",
              "0  worldcom exboss launches defence lawyers defen...  business\n",
              "1  german business confidence slides german busin...  business\n",
              "2  bbc poll indicates economic gloom citizens in ...  business\n",
              "3  lifestyle  governs mobile choice  faster  bett...      tech\n",
              "4  enron bosses in 168m payout eighteen former en...  business"
            ],
            "text/html": [
              "\n",
              "  <div id=\"df-4ca5a2b1-3fc6-4f43-9604-b58848f9fe70\">\n",
              "    <div class=\"colab-df-container\">\n",
              "      <div>\n",
              "<style scoped>\n",
              "    .dataframe tbody tr th:only-of-type {\n",
              "        vertical-align: middle;\n",
              "    }\n",
              "\n",
              "    .dataframe tbody tr th {\n",
              "        vertical-align: top;\n",
              "    }\n",
              "\n",
              "    .dataframe thead th {\n",
              "        text-align: right;\n",
              "    }\n",
              "</style>\n",
              "<table border=\"1\" class=\"dataframe\">\n",
              "  <thead>\n",
              "    <tr style=\"text-align: right;\">\n",
              "      <th></th>\n",
              "      <th>Text</th>\n",
              "      <th>Category</th>\n",
              "    </tr>\n",
              "  </thead>\n",
              "  <tbody>\n",
              "    <tr>\n",
              "      <th>0</th>\n",
              "      <td>worldcom exboss launches defence lawyers defen...</td>\n",
              "      <td>business</td>\n",
              "    </tr>\n",
              "    <tr>\n",
              "      <th>1</th>\n",
              "      <td>german business confidence slides german busin...</td>\n",
              "      <td>business</td>\n",
              "    </tr>\n",
              "    <tr>\n",
              "      <th>2</th>\n",
              "      <td>bbc poll indicates economic gloom citizens in ...</td>\n",
              "      <td>business</td>\n",
              "    </tr>\n",
              "    <tr>\n",
              "      <th>3</th>\n",
              "      <td>lifestyle  governs mobile choice  faster  bett...</td>\n",
              "      <td>tech</td>\n",
              "    </tr>\n",
              "    <tr>\n",
              "      <th>4</th>\n",
              "      <td>enron bosses in 168m payout eighteen former en...</td>\n",
              "      <td>business</td>\n",
              "    </tr>\n",
              "  </tbody>\n",
              "</table>\n",
              "</div>\n",
              "      <button class=\"colab-df-convert\" onclick=\"convertToInteractive('df-4ca5a2b1-3fc6-4f43-9604-b58848f9fe70')\"\n",
              "              title=\"Convert this dataframe to an interactive table.\"\n",
              "              style=\"display:none;\">\n",
              "        \n",
              "  <svg xmlns=\"http://www.w3.org/2000/svg\" height=\"24px\"viewBox=\"0 0 24 24\"\n",
              "       width=\"24px\">\n",
              "    <path d=\"M0 0h24v24H0V0z\" fill=\"none\"/>\n",
              "    <path d=\"M18.56 5.44l.94 2.06.94-2.06 2.06-.94-2.06-.94-.94-2.06-.94 2.06-2.06.94zm-11 1L8.5 8.5l.94-2.06 2.06-.94-2.06-.94L8.5 2.5l-.94 2.06-2.06.94zm10 10l.94 2.06.94-2.06 2.06-.94-2.06-.94-.94-2.06-.94 2.06-2.06.94z\"/><path d=\"M17.41 7.96l-1.37-1.37c-.4-.4-.92-.59-1.43-.59-.52 0-1.04.2-1.43.59L10.3 9.45l-7.72 7.72c-.78.78-.78 2.05 0 2.83L4 21.41c.39.39.9.59 1.41.59.51 0 1.02-.2 1.41-.59l7.78-7.78 2.81-2.81c.8-.78.8-2.07 0-2.86zM5.41 20L4 18.59l7.72-7.72 1.47 1.35L5.41 20z\"/>\n",
              "  </svg>\n",
              "      </button>\n",
              "      \n",
              "  <style>\n",
              "    .colab-df-container {\n",
              "      display:flex;\n",
              "      flex-wrap:wrap;\n",
              "      gap: 12px;\n",
              "    }\n",
              "\n",
              "    .colab-df-convert {\n",
              "      background-color: #E8F0FE;\n",
              "      border: none;\n",
              "      border-radius: 50%;\n",
              "      cursor: pointer;\n",
              "      display: none;\n",
              "      fill: #1967D2;\n",
              "      height: 32px;\n",
              "      padding: 0 0 0 0;\n",
              "      width: 32px;\n",
              "    }\n",
              "\n",
              "    .colab-df-convert:hover {\n",
              "      background-color: #E2EBFA;\n",
              "      box-shadow: 0px 1px 2px rgba(60, 64, 67, 0.3), 0px 1px 3px 1px rgba(60, 64, 67, 0.15);\n",
              "      fill: #174EA6;\n",
              "    }\n",
              "\n",
              "    [theme=dark] .colab-df-convert {\n",
              "      background-color: #3B4455;\n",
              "      fill: #D2E3FC;\n",
              "    }\n",
              "\n",
              "    [theme=dark] .colab-df-convert:hover {\n",
              "      background-color: #434B5C;\n",
              "      box-shadow: 0px 1px 3px 1px rgba(0, 0, 0, 0.15);\n",
              "      filter: drop-shadow(0px 1px 2px rgba(0, 0, 0, 0.3));\n",
              "      fill: #FFFFFF;\n",
              "    }\n",
              "  </style>\n",
              "\n",
              "      <script>\n",
              "        const buttonEl =\n",
              "          document.querySelector('#df-4ca5a2b1-3fc6-4f43-9604-b58848f9fe70 button.colab-df-convert');\n",
              "        buttonEl.style.display =\n",
              "          google.colab.kernel.accessAllowed ? 'block' : 'none';\n",
              "\n",
              "        async function convertToInteractive(key) {\n",
              "          const element = document.querySelector('#df-4ca5a2b1-3fc6-4f43-9604-b58848f9fe70');\n",
              "          const dataTable =\n",
              "            await google.colab.kernel.invokeFunction('convertToInteractive',\n",
              "                                                     [key], {});\n",
              "          if (!dataTable) return;\n",
              "\n",
              "          const docLinkHtml = 'Like what you see? Visit the ' +\n",
              "            '<a target=\"_blank\" href=https://colab.research.google.com/notebooks/data_table.ipynb>data table notebook</a>'\n",
              "            + ' to learn more about interactive tables.';\n",
              "          element.innerHTML = '';\n",
              "          dataTable['output_type'] = 'display_data';\n",
              "          await google.colab.output.renderOutput(dataTable, element);\n",
              "          const docLink = document.createElement('div');\n",
              "          docLink.innerHTML = docLinkHtml;\n",
              "          element.appendChild(docLink);\n",
              "        }\n",
              "      </script>\n",
              "    </div>\n",
              "  </div>\n",
              "  "
            ]
          },
          "metadata": {},
          "execution_count": 6
        }
      ],
      "source": [
        "# Converting the all the text in the lowercase.\n",
        "\n",
        "df['Category']= df['Category'].apply(lambda x: x.lower())\n",
        "\n",
        "df['Text']= df['Text'].apply(lambda x: x.lower())\n",
        "\n",
        "df.head()\n"
      ]
    },
    {
      "cell_type": "code",
      "execution_count": null,
      "metadata": {
        "id": "Gtkcj9uJ2Y09"
      },
      "outputs": [],
      "source": [
        "# Preprocessing the dataset.\n",
        "\n",
        "stop_words = set(stopwords.words('english'))\n",
        "\n",
        "# Initialize stemmer\n",
        "\n",
        "stemmer = PorterStemmer()\n",
        "\n",
        "def preprocessing_dataset(text):\n",
        "\n",
        "    # Remove whitespace\n",
        "    text=  re.sub(' +', ' ', text)\n",
        "\n",
        "    # Tokenize the text\n",
        "    tokens = word_tokenize(text)\n",
        "\n",
        "    # Removing stopwords\n",
        "    stop_words = set(stopwords.words('english'))\n",
        "    processed_tokens = [token for token in tokens if token not in stop_words]\n",
        "\n",
        "    # Perform stemming\n",
        "    stemmed_tokens = [stemmer.stem(token) for token in processed_tokens]\n",
        "    return ' '.join(stemmed_tokens)"
      ]
    },
    {
      "cell_type": "code",
      "execution_count": null,
      "metadata": {
        "id": "Sucn9RPU2Y62"
      },
      "outputs": [],
      "source": [
        "# Preprocessing \n",
        "\n",
        "updated_text = [preprocessing_dataset(text) for text in df['Text']]"
      ]
    },
    {
      "cell_type": "code",
      "execution_count": null,
      "metadata": {
        "id": "7EmuQpNh2Y-R"
      },
      "outputs": [],
      "source": [
        "# term document \n",
        "\n",
        "term_doc = CountVectorizer().fit_transform(updated_text)"
      ]
    },
    {
      "cell_type": "code",
      "execution_count": null,
      "metadata": {
        "id": "n4yuRxAd2ZBL"
      },
      "outputs": [],
      "source": [
        "# TF-IDF \n",
        "\n",
        "tf_idf_matrix = TfidfTransformer().fit_transform(term_doc).toarray()\n"
      ]
    },
    {
      "cell_type": "code",
      "execution_count": null,
      "metadata": {
        "id": "1wuWoLy92ZD-"
      },
      "outputs": [],
      "source": [
        "# Calculating ICF \n",
        "num_docs = len(df)\n",
        "icf = np.log(num_docs / np.count_nonzero(tf_idf_matrix, axis=0))"
      ]
    },
    {
      "cell_type": "code",
      "execution_count": null,
      "metadata": {
        "id": "0jZ7kq-Q2ZGy"
      },
      "outputs": [],
      "source": [
        "# Converting tfidf and icf to sparse matrices\n",
        "\n",
        "tfidf_matrix = csr_matrix(tf_idf_matrix)\n",
        "icf = csr_matrix(icf)"
      ]
    },
    {
      "cell_type": "code",
      "execution_count": null,
      "metadata": {
        "id": "3pl4ndHf2ZKg"
      },
      "outputs": [],
      "source": [
        "# Compute the TF-ICF\n",
        "tf_icf = tfidf_matrix.multiply(icf)"
      ]
    },
    {
      "cell_type": "code",
      "execution_count": null,
      "metadata": {
        "id": "C2TYc77YAZEi",
        "colab": {
          "base_uri": "https://localhost:8080/"
        },
        "outputId": "cd2daac7-0ed5-444d-b5c0-c0dfd1ca27d9"
      },
      "outputs": [
        {
          "output_type": "stream",
          "name": "stdout",
          "text": [
            "  (0, 19606)\t0.10889205198430775\n",
            "  (0, 19573)\t0.008007005010754938\n",
            "  (0, 19441)\t2.5116048084301688\n",
            "  (0, 19355)\t0.43127312668158546\n",
            "  (0, 19230)\t0.5607384552093957\n",
            "  (0, 19109)\t0.03217036938024452\n",
            "  (0, 19105)\t0.09122074155620755\n",
            "  (0, 19024)\t0.06681431475818761\n",
            "  (0, 18976)\t0.20449198889429906\n",
            "  (0, 18778)\t0.35359487977417275\n",
            "  (0, 18700)\t0.09989043993963045\n",
            "  (0, 18641)\t0.027270847768020513\n",
            "  (0, 18624)\t0.020321011806398313\n",
            "  (0, 18330)\t0.39967044232612003\n",
            "  (0, 18308)\t0.2880634540053271\n",
            "  (0, 18040)\t0.2442351105941548\n",
            "  (0, 17840)\t0.03020974571860851\n",
            "  (0, 17523)\t0.12169570325070507\n",
            "  (0, 17510)\t0.18105378649676682\n",
            "  (0, 17483)\t0.14378230336963452\n",
            "  (0, 17135)\t0.4573280121882653\n",
            "  (0, 16993)\t0.10384549838485468\n",
            "  (0, 16808)\t0.060552227058777976\n",
            "  (0, 15977)\t0.1497012419931611\n",
            "  (0, 15871)\t0.08718029915616202\n",
            "  :\t:\n",
            "  (1489, 6914)\t0.11324391785101001\n",
            "  (1489, 6685)\t0.13735368825701377\n",
            "  (1489, 6093)\t0.10932576668133451\n",
            "  (1489, 5744)\t1.7006642448107794\n",
            "  (1489, 5708)\t0.16525148721485525\n",
            "  (1489, 5020)\t0.18055899316996155\n",
            "  (1489, 4500)\t0.26630188112452835\n",
            "  (1489, 3985)\t0.3574727597114428\n",
            "  (1489, 3589)\t0.1157422944322441\n",
            "  (1489, 3542)\t0.31591035191199046\n",
            "  (1489, 3369)\t0.06356782566673738\n",
            "  (1489, 3231)\t0.13371984899617223\n",
            "  (1489, 2798)\t0.09013362108426927\n",
            "  (1489, 2566)\t0.06754706827229025\n",
            "  (1489, 2442)\t0.06224293716139515\n",
            "  (1489, 2033)\t0.11926496629568059\n",
            "  (1489, 1967)\t0.13735368825701377\n",
            "  (1489, 1933)\t0.08483972050919049\n",
            "  (1489, 1190)\t0.3574727597114428\n",
            "  (1489, 1117)\t0.10932576668133451\n",
            "  (1489, 764)\t0.12920154819635926\n",
            "  (1489, 713)\t0.14535916587943012\n",
            "  (1489, 624)\t0.07369414215001376\n",
            "  (1489, 620)\t0.24691364043020586\n",
            "  (1489, 1)\t0.038233326522515036\n"
          ]
        }
      ],
      "source": [
        "print(tf_icf)"
      ]
    },
    {
      "cell_type": "code",
      "execution_count": null,
      "metadata": {
        "id": "HSvmpO362ZNk"
      },
      "outputs": [],
      "source": [
        "#Spliting training data and test data into 70:30 ratio\n",
        "\n",
        "x_train,x_test,y_train,y_test = train_test_split(tf_icf,df['Category'],test_size=0.3,random_state=10)"
      ]
    },
    {
      "cell_type": "code",
      "execution_count": null,
      "metadata": {
        "id": "RCe7zGMkmmmC"
      },
      "outputs": [],
      "source": [
        "# Naive Bayes classifier\n",
        "classifier = MultinomialNB()\n",
        "\n",
        "# Fit the classifier on the training data\n",
        "classifier.fit(x_train, y_train)\n",
        "\n",
        "# Predict the categories of the testing data\n",
        "predict_y = classifier.predict(x_test)"
      ]
    },
    {
      "cell_type": "code",
      "execution_count": null,
      "metadata": {
        "id": "Em2XP2dVmmjy",
        "colab": {
          "base_uri": "https://localhost:8080/"
        },
        "outputId": "dd7df1c7-2933-40f3-9583-ddeeeda20ed8"
      },
      "outputs": [
        {
          "output_type": "stream",
          "name": "stdout",
          "text": [
            "Accuracy: 0.9731543624161074\n"
          ]
        }
      ],
      "source": [
        "accuracy = accuracy_score(y_test, predict_y)\n",
        "\n",
        "# Accuracy score\n",
        "print('Accuracy:', accuracy)"
      ]
    },
    {
      "cell_type": "code",
      "execution_count": null,
      "metadata": {
        "id": "x3QedqXnmmhV",
        "colab": {
          "base_uri": "https://localhost:8080/"
        },
        "outputId": "705fedda-a852-4035-ba88-f0deae2ddf01"
      },
      "outputs": [
        {
          "output_type": "stream",
          "name": "stdout",
          "text": [
            "[[ 87   0   2   0   2]\n",
            " [  1  82   2   0   2]\n",
            " [  1   1  72   0   0]\n",
            " [  0   0   0 118   0]\n",
            " [  0   1   0   0  76]]\n"
          ]
        }
      ],
      "source": [
        "# Confusion matrix\n",
        "confusion_matrix = confusion_matrix(y_test, predict_y)\n",
        "print(confusion_matrix)"
      ]
    },
    {
      "cell_type": "code",
      "execution_count": null,
      "metadata": {
        "id": "xFYluxhimmfB",
        "colab": {
          "base_uri": "https://localhost:8080/"
        },
        "outputId": "cabb9034-aeb3-49d2-c3b6-c0de72573a1e"
      },
      "outputs": [
        {
          "output_type": "stream",
          "name": "stdout",
          "text": [
            "Precision: 0.9702\n",
            "Recall: 0.9717\n",
            "F1 score: 0.9708\n"
          ]
        }
      ],
      "source": [
        "precision = precision_score(y_test, predict_y, average='macro')\n",
        "recall = recall_score(y_test, predict_y, average='macro')\n",
        "f1 = f1_score(y_test, predict_y, average='macro')\n",
        "\n",
        "\n",
        "print(f'Precision: {precision:.4f}')\n",
        "print(f'Recall: {recall:.4f}')\n",
        "print(f'F1 score: {f1:.4f}')"
      ]
    },
    {
      "cell_type": "code",
      "execution_count": null,
      "metadata": {
        "id": "WvlVML58mmbW"
      },
      "outputs": [],
      "source": [
        "#Spliting training data and test data into 60:40 ratio\n",
        "\n",
        "x_train1,x_test1,y_train1,y_test1 = train_test_split(tf_icf,df['Category'],test_size=0.4,random_state=36)"
      ]
    },
    {
      "cell_type": "code",
      "execution_count": null,
      "metadata": {
        "id": "pturfJLrmmUH"
      },
      "outputs": [],
      "source": [
        "# Naive Bayes classifier\n",
        "classifier1 = MultinomialNB()\n",
        "\n",
        "# Fit the classifier on the training data\n",
        "classifier1.fit(x_train1, y_train1)\n",
        "\n",
        "# Predict the categories of the testing data\n",
        "predict_y1 = classifier1.predict(x_test1)"
      ]
    },
    {
      "cell_type": "code",
      "execution_count": null,
      "metadata": {
        "id": "OaTytny-2n4G",
        "colab": {
          "base_uri": "https://localhost:8080/"
        },
        "outputId": "5a5c5836-9baf-44f7-823d-a08c3b511f4b"
      },
      "outputs": [
        {
          "output_type": "stream",
          "name": "stdout",
          "text": [
            "Accuracy: 0.9630872483221476\n"
          ]
        }
      ],
      "source": [
        "accuracy1 = accuracy_score(y_test1, predict_y1)\n",
        "\n",
        "# Accuracy score\n",
        "print('Accuracy:', accuracy1)"
      ]
    },
    {
      "cell_type": "code",
      "execution_count": null,
      "metadata": {
        "id": "xKZ0B2kp2n2D",
        "colab": {
          "base_uri": "https://localhost:8080/"
        },
        "outputId": "ad5f4e1d-bcd2-4bff-cca6-b5b2649b8606"
      },
      "outputs": [
        {
          "output_type": "stream",
          "name": "stdout",
          "text": [
            "[[128   0   4   1   1]\n",
            " [  2 126   0   0   6]\n",
            " [  2   0 101   0   1]\n",
            " [  0   0   0 129   0]\n",
            " [  1   3   1   0  90]]\n"
          ]
        }
      ],
      "source": [
        "# Confusion matrix\n",
        "confusion_matrix1 = metrics.confusion_matrix(y_test1, predict_y1)\n",
        "print(confusion_matrix1)"
      ]
    },
    {
      "cell_type": "code",
      "execution_count": null,
      "metadata": {
        "id": "nYkLmDMdXpj0",
        "colab": {
          "base_uri": "https://localhost:8080/"
        },
        "outputId": "8bb7a53c-8ae0-411e-8da7-dae751267209"
      },
      "outputs": [
        {
          "output_type": "stream",
          "name": "stdout",
          "text": [
            "Precision: 0.9702\n",
            "Recall: 0.9717\n",
            "F1 score: 0.9708\n"
          ]
        }
      ],
      "source": [
        "\n",
        "\n",
        "precision = precision_score(y_test, predict_y, average='macro')\n",
        "recall = recall_score(y_test, predict_y, average='macro')\n",
        "f1 = f1_score(y_test, predict_y, average='macro')\n",
        "\n",
        "\n",
        "print(f'Precision: {precision:.4f}')\n",
        "print(f'Recall: {recall:.4f}')\n",
        "print(f'F1 score: {f1:.4f}')"
      ]
    },
    {
      "cell_type": "code",
      "execution_count": null,
      "metadata": {
        "id": "doSMz3Zy2ny3"
      },
      "outputs": [],
      "source": [
        "#Spliting training data and test data into 50:50 ratio\n",
        "\n",
        "x_train2,x_test2,y_train2,y_test2 = train_test_split(tf_icf,df['Category'],test_size=0.5,random_state=36)"
      ]
    },
    {
      "cell_type": "code",
      "execution_count": null,
      "metadata": {
        "id": "HFc73hf82nuw"
      },
      "outputs": [],
      "source": [
        "# Naive Bayes classifier\n",
        "classifier2 = MultinomialNB()\n",
        "\n",
        "# Fit the classifier on the training data\n",
        "classifier2.fit(x_train2, y_train2)\n",
        "\n",
        "# Predict the categories of the testing data\n",
        "predict_y2 = classifier2.predict(x_test2)"
      ]
    },
    {
      "cell_type": "code",
      "execution_count": null,
      "metadata": {
        "id": "PVSpQH8OXexa",
        "colab": {
          "base_uri": "https://localhost:8080/"
        },
        "outputId": "c879de32-7662-4613-f53e-ffeced6ca281"
      },
      "outputs": [
        {
          "output_type": "stream",
          "name": "stdout",
          "text": [
            "Accuracy: 0.9624161073825503\n"
          ]
        }
      ],
      "source": [
        "accuracy2 = accuracy_score(y_test2, predict_y2)\n",
        "\n",
        "# Accuracy score\n",
        "print('Accuracy:', accuracy2)"
      ]
    },
    {
      "cell_type": "code",
      "execution_count": null,
      "metadata": {
        "id": "GXr-4UPCXevb",
        "colab": {
          "base_uri": "https://localhost:8080/"
        },
        "outputId": "aef0e2a2-a929-4b2a-e0de-499f48dd72b7"
      },
      "outputs": [
        {
          "output_type": "stream",
          "name": "stdout",
          "text": [
            "Precision: 0.970217\n",
            "Recall: 0.961962\n",
            "F1 score: 0.961254\n"
          ]
        }
      ],
      "source": [
        "# Precision\n",
        "\n",
        "precision2 = precision_score(y_test2,predict_y2,average='macro')\n",
        "print('Precision: %f' % precision)\n",
        "\n",
        "# recall: tp / (tp + fn)\n",
        "\n",
        "recall = recall_score(y_test2, predict_y2,average='macro')\n",
        "print('Recall: %f' % recall)\n",
        "\n",
        "# f1: 2 tp / (2 tp + fp + fn)\n",
        "\n",
        "f1 = f1_score(y_test2, predict_y2,average='macro')\n",
        "print('F1 score: %f' % f1)"
      ]
    },
    {
      "cell_type": "code",
      "execution_count": null,
      "metadata": {
        "id": "C6nKIuHkbyj8",
        "colab": {
          "base_uri": "https://localhost:8080/"
        },
        "outputId": "a3c7667e-ca55-479a-d8c4-260284571952"
      },
      "outputs": [
        {
          "output_type": "stream",
          "name": "stdout",
          "text": [
            "[[162   0   3   1   2]\n",
            " [  2 147   3   1   5]\n",
            " [  3   2 123   1   1]\n",
            " [  0   0   0 160   0]\n",
            " [  1   1   2   0 125]]\n"
          ]
        }
      ],
      "source": [
        "# Confusion matrix\n",
        "confusion_matrix2 = metrics.confusion_matrix(y_test2, predict_y2)\n",
        "print(confusion_matrix2)"
      ]
    },
    {
      "cell_type": "code",
      "execution_count": null,
      "metadata": {
        "id": "Lt3-ZLHGXetS"
      },
      "outputs": [],
      "source": [
        "#Spliting training data and test data into 20:80 ratio\n",
        "\n",
        "x_train3,x_test3,y_train3,y_test3 = train_test_split(tf_icf,df['Category'],test_size=0.8,random_state=30)"
      ]
    },
    {
      "cell_type": "code",
      "execution_count": null,
      "metadata": {
        "id": "KhUEjUIma4DD",
        "colab": {
          "base_uri": "https://localhost:8080/"
        },
        "outputId": "6a957e6b-b201-444e-883f-df38164ce1ed"
      },
      "outputs": [
        {
          "output_type": "stream",
          "name": "stdout",
          "text": [
            "(298, 19695)\n",
            "(1192, 19695)\n",
            "(298,)\n",
            "(1192,)\n"
          ]
        }
      ],
      "source": [
        "print(x_train3.shape)\n",
        "print(x_test3.shape)\n",
        "print(y_train3.shape)\n",
        "print(y_test3.shape)"
      ]
    },
    {
      "cell_type": "code",
      "execution_count": null,
      "metadata": {
        "id": "O2Aure8PXerK"
      },
      "outputs": [],
      "source": [
        "# Naive Bayes classifier\n",
        "classifier3 = MultinomialNB()\n",
        "\n",
        "# Fit the classifier on the training data\n",
        "classifier3.fit(x_train3, y_train3)\n",
        "\n",
        "# Predict the categories of the testing data\n",
        "predict_y3 = classifier3.predict(x_test3)"
      ]
    },
    {
      "cell_type": "code",
      "execution_count": null,
      "metadata": {
        "id": "dAX1AnzgXeo1",
        "colab": {
          "base_uri": "https://localhost:8080/"
        },
        "outputId": "f8b65b6f-d4ef-4138-b91d-eb08e65f7c3f"
      },
      "outputs": [
        {
          "output_type": "stream",
          "name": "stdout",
          "text": [
            "Accuracy: 0.9588926174496645\n"
          ]
        }
      ],
      "source": [
        "accuracy3 = accuracy_score(y_test3, predict_y3)\n",
        "\n",
        "# Accuracy score\n",
        "print('Accuracy:', accuracy3)"
      ]
    },
    {
      "cell_type": "code",
      "execution_count": null,
      "metadata": {
        "id": "xAO2ttWwZD5q",
        "colab": {
          "base_uri": "https://localhost:8080/"
        },
        "outputId": "6459a90e-25ec-4f6b-ae44-d368eda5034b"
      },
      "outputs": [
        {
          "output_type": "stream",
          "name": "stdout",
          "text": [
            "Precision: 0.957015\n",
            "Recall: 0.961962\n",
            "F1 score: 0.957417\n"
          ]
        }
      ],
      "source": [
        "# Precision\n",
        "\n",
        "precision3 = precision_score(y_test3,predict_y3,average='macro')\n",
        "print('Precision: %f' % precision3)\n",
        "\n",
        "# recall: tp / (tp + fn)\n",
        "\n",
        "recall3 = recall_score(y_test3, predict_y3,average='macro')\n",
        "print('Recall: %f' % recall)\n",
        "\n",
        "# f1: 2 tp / (2 tp + fp + fn)\n",
        "\n",
        "f1 = f1_score(y_test3, predict_y3,average='macro')\n",
        "print('F1 score: %f' % f1)\n",
        "\n",
        "# precision = precision_score(y_test3, predict_y3, average='macro')\n",
        "# recall = recall_score(y_test3, predict_y3, average='macro')\n",
        "# f1 = f1_score(y_test3, predict_y3, average='macro')\n",
        "\n",
        "\n",
        "# print(f'Precision: {precision:.4f}')\n",
        "# print(f'Recall: {recall:.4f}')\n",
        "# print(f'F1 score: {f1:.4f}')"
      ]
    },
    {
      "cell_type": "code",
      "execution_count": null,
      "metadata": {
        "id": "yNTnCW1hZD2D",
        "colab": {
          "base_uri": "https://localhost:8080/"
        },
        "outputId": "edffa3d1-6799-4a5c-ac16-5558c840c9b9"
      },
      "outputs": [
        {
          "output_type": "stream",
          "name": "stdout",
          "text": [
            "[[252   1   5   1   9]\n",
            " [  0 211   4   0   2]\n",
            " [  8   1 207   1   4]\n",
            " [  1   0   1 275   0]\n",
            " [  2   5   4   0 198]]\n"
          ]
        }
      ],
      "source": [
        "# Confusion matrix\n",
        "confusion_matrix3 = metrics.confusion_matrix(y_test3, predict_y3)\n",
        "print(confusion_matrix3)"
      ]
    },
    {
      "cell_type": "code",
      "execution_count": null,
      "metadata": {
        "id": "NkILJuqEZDzD"
      },
      "outputs": [],
      "source": [
        "# # Loop over the unique categories in the training set\n",
        "\n",
        "# for category in y_train.unique():\n",
        "#     index = y_train[y_train == category].index\n",
        "#     tf_icf_avg = tf_icf[index].mean(axis=0)\n",
        "#     tf_icf_avg = np.squeeze(np.asarray(tf_icf_avg))\n",
        "#     feature_names = TfidfTransformer().get_feature_names_out()\n",
        "#     for feature_idx in np.argsort(tf_icf_avg)[-10:]:\n",
        "#         feature_name = feature_names[feature_idx]\n",
        "#         feature_tficf = tf_icf_avg[feature_idx]\n",
        "#         print(f'{category}: {feature_name} - {feature_tficf:.4f}')"
      ]
    },
    {
      "cell_type": "code",
      "execution_count": null,
      "metadata": {
        "id": "dFDKyn74nuXD"
      },
      "outputs": [],
      "source": [
        "df3 = pd.read_csv(\"/content/drive/MyDrive/Information_retrieval/A2_Q2.csv\", encoding = \"ISO-8859-1\")"
      ]
    },
    {
      "cell_type": "code",
      "execution_count": null,
      "metadata": {
        "id": "vU7ScDLWZDwq"
      },
      "outputs": [],
      "source": [
        "# Dropping the column\n",
        "\n",
        "df3 = df3.drop(['ArticleId'], axis=1)"
      ]
    },
    {
      "cell_type": "code",
      "execution_count": null,
      "metadata": {
        "id": "zyjaNA3VZDsq",
        "colab": {
          "base_uri": "https://localhost:8080/",
          "height": 206
        },
        "outputId": "dd50aa48-cca5-4723-8f58-914a0df23132"
      },
      "outputs": [
        {
          "output_type": "execute_result",
          "data": {
            "text/plain": [
              "                                                Text  Category\n",
              "0  worldcom exboss launches defence lawyers defen...  business\n",
              "1  german business confidence slides german busin...  business\n",
              "2  bbc poll indicates economic gloom citizens in ...  business\n",
              "3  lifestyle  governs mobile choice  faster  bett...      tech\n",
              "4  enron bosses in 168m payout eighteen former en...  business"
            ],
            "text/html": [
              "\n",
              "  <div id=\"df-496b5598-1ae3-46d1-9bd3-93110b51cd0f\">\n",
              "    <div class=\"colab-df-container\">\n",
              "      <div>\n",
              "<style scoped>\n",
              "    .dataframe tbody tr th:only-of-type {\n",
              "        vertical-align: middle;\n",
              "    }\n",
              "\n",
              "    .dataframe tbody tr th {\n",
              "        vertical-align: top;\n",
              "    }\n",
              "\n",
              "    .dataframe thead th {\n",
              "        text-align: right;\n",
              "    }\n",
              "</style>\n",
              "<table border=\"1\" class=\"dataframe\">\n",
              "  <thead>\n",
              "    <tr style=\"text-align: right;\">\n",
              "      <th></th>\n",
              "      <th>Text</th>\n",
              "      <th>Category</th>\n",
              "    </tr>\n",
              "  </thead>\n",
              "  <tbody>\n",
              "    <tr>\n",
              "      <th>0</th>\n",
              "      <td>worldcom exboss launches defence lawyers defen...</td>\n",
              "      <td>business</td>\n",
              "    </tr>\n",
              "    <tr>\n",
              "      <th>1</th>\n",
              "      <td>german business confidence slides german busin...</td>\n",
              "      <td>business</td>\n",
              "    </tr>\n",
              "    <tr>\n",
              "      <th>2</th>\n",
              "      <td>bbc poll indicates economic gloom citizens in ...</td>\n",
              "      <td>business</td>\n",
              "    </tr>\n",
              "    <tr>\n",
              "      <th>3</th>\n",
              "      <td>lifestyle  governs mobile choice  faster  bett...</td>\n",
              "      <td>tech</td>\n",
              "    </tr>\n",
              "    <tr>\n",
              "      <th>4</th>\n",
              "      <td>enron bosses in 168m payout eighteen former en...</td>\n",
              "      <td>business</td>\n",
              "    </tr>\n",
              "  </tbody>\n",
              "</table>\n",
              "</div>\n",
              "      <button class=\"colab-df-convert\" onclick=\"convertToInteractive('df-496b5598-1ae3-46d1-9bd3-93110b51cd0f')\"\n",
              "              title=\"Convert this dataframe to an interactive table.\"\n",
              "              style=\"display:none;\">\n",
              "        \n",
              "  <svg xmlns=\"http://www.w3.org/2000/svg\" height=\"24px\"viewBox=\"0 0 24 24\"\n",
              "       width=\"24px\">\n",
              "    <path d=\"M0 0h24v24H0V0z\" fill=\"none\"/>\n",
              "    <path d=\"M18.56 5.44l.94 2.06.94-2.06 2.06-.94-2.06-.94-.94-2.06-.94 2.06-2.06.94zm-11 1L8.5 8.5l.94-2.06 2.06-.94-2.06-.94L8.5 2.5l-.94 2.06-2.06.94zm10 10l.94 2.06.94-2.06 2.06-.94-2.06-.94-.94-2.06-.94 2.06-2.06.94z\"/><path d=\"M17.41 7.96l-1.37-1.37c-.4-.4-.92-.59-1.43-.59-.52 0-1.04.2-1.43.59L10.3 9.45l-7.72 7.72c-.78.78-.78 2.05 0 2.83L4 21.41c.39.39.9.59 1.41.59.51 0 1.02-.2 1.41-.59l7.78-7.78 2.81-2.81c.8-.78.8-2.07 0-2.86zM5.41 20L4 18.59l7.72-7.72 1.47 1.35L5.41 20z\"/>\n",
              "  </svg>\n",
              "      </button>\n",
              "      \n",
              "  <style>\n",
              "    .colab-df-container {\n",
              "      display:flex;\n",
              "      flex-wrap:wrap;\n",
              "      gap: 12px;\n",
              "    }\n",
              "\n",
              "    .colab-df-convert {\n",
              "      background-color: #E8F0FE;\n",
              "      border: none;\n",
              "      border-radius: 50%;\n",
              "      cursor: pointer;\n",
              "      display: none;\n",
              "      fill: #1967D2;\n",
              "      height: 32px;\n",
              "      padding: 0 0 0 0;\n",
              "      width: 32px;\n",
              "    }\n",
              "\n",
              "    .colab-df-convert:hover {\n",
              "      background-color: #E2EBFA;\n",
              "      box-shadow: 0px 1px 2px rgba(60, 64, 67, 0.3), 0px 1px 3px 1px rgba(60, 64, 67, 0.15);\n",
              "      fill: #174EA6;\n",
              "    }\n",
              "\n",
              "    [theme=dark] .colab-df-convert {\n",
              "      background-color: #3B4455;\n",
              "      fill: #D2E3FC;\n",
              "    }\n",
              "\n",
              "    [theme=dark] .colab-df-convert:hover {\n",
              "      background-color: #434B5C;\n",
              "      box-shadow: 0px 1px 3px 1px rgba(0, 0, 0, 0.15);\n",
              "      filter: drop-shadow(0px 1px 2px rgba(0, 0, 0, 0.3));\n",
              "      fill: #FFFFFF;\n",
              "    }\n",
              "  </style>\n",
              "\n",
              "      <script>\n",
              "        const buttonEl =\n",
              "          document.querySelector('#df-496b5598-1ae3-46d1-9bd3-93110b51cd0f button.colab-df-convert');\n",
              "        buttonEl.style.display =\n",
              "          google.colab.kernel.accessAllowed ? 'block' : 'none';\n",
              "\n",
              "        async function convertToInteractive(key) {\n",
              "          const element = document.querySelector('#df-496b5598-1ae3-46d1-9bd3-93110b51cd0f');\n",
              "          const dataTable =\n",
              "            await google.colab.kernel.invokeFunction('convertToInteractive',\n",
              "                                                     [key], {});\n",
              "          if (!dataTable) return;\n",
              "\n",
              "          const docLinkHtml = 'Like what you see? Visit the ' +\n",
              "            '<a target=\"_blank\" href=https://colab.research.google.com/notebooks/data_table.ipynb>data table notebook</a>'\n",
              "            + ' to learn more about interactive tables.';\n",
              "          element.innerHTML = '';\n",
              "          dataTable['output_type'] = 'display_data';\n",
              "          await google.colab.output.renderOutput(dataTable, element);\n",
              "          const docLink = document.createElement('div');\n",
              "          docLink.innerHTML = docLinkHtml;\n",
              "          element.appendChild(docLink);\n",
              "        }\n",
              "      </script>\n",
              "    </div>\n",
              "  </div>\n",
              "  "
            ]
          },
          "metadata": {},
          "execution_count": 39
        }
      ],
      "source": [
        "# Removing punctuation\n",
        "\n",
        "def remove_punctuation(text):\n",
        "    punctuationfree=\"\".join([i for i in text if i not in string.punctuation])\n",
        "    return punctuationfree\n",
        "\n",
        "# Storing the puntuation free text\n",
        "\n",
        "df3['Text']= df['Text'].apply(lambda x:remove_punctuation(x))\n",
        "df3.head()"
      ]
    },
    {
      "cell_type": "code",
      "execution_count": null,
      "metadata": {
        "id": "o2iHIi_cn2PP",
        "colab": {
          "base_uri": "https://localhost:8080/",
          "height": 206
        },
        "outputId": "538f4839-15ac-4ef4-f8ad-2f3a8a353fbc"
      },
      "outputs": [
        {
          "output_type": "execute_result",
          "data": {
            "text/plain": [
              "                                                Text  Category\n",
              "0  worldcom exboss launches defence lawyers defen...  business\n",
              "1  german business confidence slides german busin...  business\n",
              "2  bbc poll indicates economic gloom citizens in ...  business\n",
              "3  lifestyle  governs mobile choice  faster  bett...      tech\n",
              "4  enron bosses in 168m payout eighteen former en...  business"
            ],
            "text/html": [
              "\n",
              "  <div id=\"df-9b6616cb-05d7-4f50-ac9c-efa587df876b\">\n",
              "    <div class=\"colab-df-container\">\n",
              "      <div>\n",
              "<style scoped>\n",
              "    .dataframe tbody tr th:only-of-type {\n",
              "        vertical-align: middle;\n",
              "    }\n",
              "\n",
              "    .dataframe tbody tr th {\n",
              "        vertical-align: top;\n",
              "    }\n",
              "\n",
              "    .dataframe thead th {\n",
              "        text-align: right;\n",
              "    }\n",
              "</style>\n",
              "<table border=\"1\" class=\"dataframe\">\n",
              "  <thead>\n",
              "    <tr style=\"text-align: right;\">\n",
              "      <th></th>\n",
              "      <th>Text</th>\n",
              "      <th>Category</th>\n",
              "    </tr>\n",
              "  </thead>\n",
              "  <tbody>\n",
              "    <tr>\n",
              "      <th>0</th>\n",
              "      <td>worldcom exboss launches defence lawyers defen...</td>\n",
              "      <td>business</td>\n",
              "    </tr>\n",
              "    <tr>\n",
              "      <th>1</th>\n",
              "      <td>german business confidence slides german busin...</td>\n",
              "      <td>business</td>\n",
              "    </tr>\n",
              "    <tr>\n",
              "      <th>2</th>\n",
              "      <td>bbc poll indicates economic gloom citizens in ...</td>\n",
              "      <td>business</td>\n",
              "    </tr>\n",
              "    <tr>\n",
              "      <th>3</th>\n",
              "      <td>lifestyle  governs mobile choice  faster  bett...</td>\n",
              "      <td>tech</td>\n",
              "    </tr>\n",
              "    <tr>\n",
              "      <th>4</th>\n",
              "      <td>enron bosses in 168m payout eighteen former en...</td>\n",
              "      <td>business</td>\n",
              "    </tr>\n",
              "  </tbody>\n",
              "</table>\n",
              "</div>\n",
              "      <button class=\"colab-df-convert\" onclick=\"convertToInteractive('df-9b6616cb-05d7-4f50-ac9c-efa587df876b')\"\n",
              "              title=\"Convert this dataframe to an interactive table.\"\n",
              "              style=\"display:none;\">\n",
              "        \n",
              "  <svg xmlns=\"http://www.w3.org/2000/svg\" height=\"24px\"viewBox=\"0 0 24 24\"\n",
              "       width=\"24px\">\n",
              "    <path d=\"M0 0h24v24H0V0z\" fill=\"none\"/>\n",
              "    <path d=\"M18.56 5.44l.94 2.06.94-2.06 2.06-.94-2.06-.94-.94-2.06-.94 2.06-2.06.94zm-11 1L8.5 8.5l.94-2.06 2.06-.94-2.06-.94L8.5 2.5l-.94 2.06-2.06.94zm10 10l.94 2.06.94-2.06 2.06-.94-2.06-.94-.94-2.06-.94 2.06-2.06.94z\"/><path d=\"M17.41 7.96l-1.37-1.37c-.4-.4-.92-.59-1.43-.59-.52 0-1.04.2-1.43.59L10.3 9.45l-7.72 7.72c-.78.78-.78 2.05 0 2.83L4 21.41c.39.39.9.59 1.41.59.51 0 1.02-.2 1.41-.59l7.78-7.78 2.81-2.81c.8-.78.8-2.07 0-2.86zM5.41 20L4 18.59l7.72-7.72 1.47 1.35L5.41 20z\"/>\n",
              "  </svg>\n",
              "      </button>\n",
              "      \n",
              "  <style>\n",
              "    .colab-df-container {\n",
              "      display:flex;\n",
              "      flex-wrap:wrap;\n",
              "      gap: 12px;\n",
              "    }\n",
              "\n",
              "    .colab-df-convert {\n",
              "      background-color: #E8F0FE;\n",
              "      border: none;\n",
              "      border-radius: 50%;\n",
              "      cursor: pointer;\n",
              "      display: none;\n",
              "      fill: #1967D2;\n",
              "      height: 32px;\n",
              "      padding: 0 0 0 0;\n",
              "      width: 32px;\n",
              "    }\n",
              "\n",
              "    .colab-df-convert:hover {\n",
              "      background-color: #E2EBFA;\n",
              "      box-shadow: 0px 1px 2px rgba(60, 64, 67, 0.3), 0px 1px 3px 1px rgba(60, 64, 67, 0.15);\n",
              "      fill: #174EA6;\n",
              "    }\n",
              "\n",
              "    [theme=dark] .colab-df-convert {\n",
              "      background-color: #3B4455;\n",
              "      fill: #D2E3FC;\n",
              "    }\n",
              "\n",
              "    [theme=dark] .colab-df-convert:hover {\n",
              "      background-color: #434B5C;\n",
              "      box-shadow: 0px 1px 3px 1px rgba(0, 0, 0, 0.15);\n",
              "      filter: drop-shadow(0px 1px 2px rgba(0, 0, 0, 0.3));\n",
              "      fill: #FFFFFF;\n",
              "    }\n",
              "  </style>\n",
              "\n",
              "      <script>\n",
              "        const buttonEl =\n",
              "          document.querySelector('#df-9b6616cb-05d7-4f50-ac9c-efa587df876b button.colab-df-convert');\n",
              "        buttonEl.style.display =\n",
              "          google.colab.kernel.accessAllowed ? 'block' : 'none';\n",
              "\n",
              "        async function convertToInteractive(key) {\n",
              "          const element = document.querySelector('#df-9b6616cb-05d7-4f50-ac9c-efa587df876b');\n",
              "          const dataTable =\n",
              "            await google.colab.kernel.invokeFunction('convertToInteractive',\n",
              "                                                     [key], {});\n",
              "          if (!dataTable) return;\n",
              "\n",
              "          const docLinkHtml = 'Like what you see? Visit the ' +\n",
              "            '<a target=\"_blank\" href=https://colab.research.google.com/notebooks/data_table.ipynb>data table notebook</a>'\n",
              "            + ' to learn more about interactive tables.';\n",
              "          element.innerHTML = '';\n",
              "          dataTable['output_type'] = 'display_data';\n",
              "          await google.colab.output.renderOutput(dataTable, element);\n",
              "          const docLink = document.createElement('div');\n",
              "          docLink.innerHTML = docLinkHtml;\n",
              "          element.appendChild(docLink);\n",
              "        }\n",
              "      </script>\n",
              "    </div>\n",
              "  </div>\n",
              "  "
            ]
          },
          "metadata": {},
          "execution_count": 40
        }
      ],
      "source": [
        "# Converting the all the text in the lowercase.\n",
        "\n",
        "df3['Category']= df3['Category'].apply(lambda x: x.lower())\n",
        "\n",
        "df3['Text']= df3['Text'].apply(lambda x: x.lower())\n",
        "\n",
        "df3.head()"
      ]
    },
    {
      "cell_type": "code",
      "execution_count": null,
      "metadata": {
        "id": "SaGBtCtun2NA"
      },
      "outputs": [],
      "source": [
        "# Preprocessing the dataset.\n",
        "\n",
        "stop_words = set(stopwords.words('english'))\n",
        "\n",
        "# Initialize the WordNetLemmatizer\n",
        "lemma = WordNetLemmatizer()\n",
        "\n",
        "def preprocessing_dataset(text):\n",
        "\n",
        "    # Remove whitespace\n",
        "    text=  re.sub(' +', ' ', text)\n",
        "\n",
        "    # Tokenize the text\n",
        "    tokens = word_tokenize(text)\n",
        "\n",
        "    # Removing stopwords\n",
        "    stop_words = set(stopwords.words('english'))\n",
        "    processed_tokens = [token for token in tokens if token not in stop_words]\n",
        "\n",
        "   # Lemmatize the words\n",
        "    words = [lemma.lemmatize(word) for word in processed_tokens]\n",
        "\n",
        "    return words\n",
        "\n",
        "df3['Text'] = df3['Text'].apply(preprocessing_dataset)"
      ]
    },
    {
      "cell_type": "code",
      "execution_count": null,
      "metadata": {
        "id": "7JAG95c-n2Kz"
      },
      "outputs": [],
      "source": [
        "range = (1,2)\n",
        "\n",
        "# Convert the list of words back to a string for the TfidfVectorizer\n",
        "\n",
        "df3['Text'] = df3['Text'].apply(' '.join)\n",
        "cnt_vect2 = TfidfVectorizer(ngram_range = range)\n",
        "\n",
        "# Fit and transform the vectorizer on the 'Text' column\n",
        "tfidf2 = cnt_vect2.fit_transform(df3['Text'])\n",
        "\n",
        "# Convert the sparse matrix to a dense matrix\n",
        "tfidf2 = tfidf2.toarray()\n",
        "\n",
        "# Create a DataFrame from the dense matrix\n",
        "tfidf_df2 = pd.DataFrame(tfidf2, columns=cnt_vect2.get_feature_names_out())\n",
        "\n",
        "# Add the 'Category' column to the DataFrame\n",
        "tfidf_df2['Category'] = df3['Category']\n",
        "\n",
        "# Group the DataFrame by category and calculate the mean of each feature\n",
        "tficf_df2 = tfidf_df2.groupby('Category').mean()"
      ]
    },
    {
      "cell_type": "code",
      "source": [
        "X_train4, X_test4, y_train4, y_test4 = train_test_split(tfidf_df2.drop('Category', axis=1), tfidf_df2['Category'], test_size=0.3, random_state=42)"
      ],
      "metadata": {
        "id": "R96i3D5PqNKF"
      },
      "execution_count": null,
      "outputs": []
    },
    {
      "cell_type": "code",
      "execution_count": null,
      "metadata": {
        "id": "8AQJf69Mn2F8"
      },
      "outputs": [],
      "source": [
        "# Naive Bayes classifier\n",
        "classifier4 = MultinomialNB()\n",
        "\n",
        "# Fit the classifier on the training data\n",
        "classifier4.fit(X_train4, y_train4)\n",
        "\n",
        "# Predict the categories of the testing data\n",
        "predict_y4 = classifier4.predict(X_test4)"
      ]
    },
    {
      "cell_type": "code",
      "execution_count": null,
      "metadata": {
        "id": "yRi5-k1mn2Dd",
        "colab": {
          "base_uri": "https://localhost:8080/"
        },
        "outputId": "a26941d6-0c8f-42b4-f428-8d790aff8420"
      },
      "outputs": [
        {
          "output_type": "stream",
          "name": "stdout",
          "text": [
            "Accuracy: 0.959731543624161\n"
          ]
        }
      ],
      "source": [
        "accuracy4 = accuracy_score(y_test4, predict_y4)\n",
        "\n",
        "# Accuracy score\n",
        "print('Accuracy:', accuracy4)"
      ]
    },
    {
      "cell_type": "code",
      "execution_count": null,
      "metadata": {
        "id": "YF9auQP5n1_F",
        "colab": {
          "base_uri": "https://localhost:8080/"
        },
        "outputId": "7eca163d-d83d-4320-ddbe-5c59ff3ec632"
      },
      "outputs": [
        {
          "output_type": "stream",
          "name": "stdout",
          "text": [
            "Precision: 0.961155\n",
            "Recall: 0.957556\n",
            "F1 score: 0.958878\n"
          ]
        }
      ],
      "source": [
        "# Precision\n",
        "\n",
        "precision4 = precision_score(y_test4,predict_y4,average='macro')\n",
        "print('Precision: %f' % precision4)\n",
        "\n",
        "# recall: tp / (tp + fn)\n",
        "\n",
        "recall4 = recall_score(y_test4, predict_y4,average='macro')\n",
        "print('Recall: %f' % recall4)\n",
        "\n",
        "# f1: 2 tp / (2 tp + fp + fn)\n",
        "\n",
        "f1 = f1_score(y_test4, predict_y4,average='macro')\n",
        "print('F1 score: %f' % f1)\n"
      ]
    },
    {
      "cell_type": "code",
      "source": [
        "# Confusion matrix\n",
        "confusion_matrix4 = metrics.confusion_matrix(y_test4, predict_y4)\n",
        "print(confusion_matrix4)"
      ],
      "metadata": {
        "colab": {
          "base_uri": "https://localhost:8080/"
        },
        "id": "l9xHgkwWn2-I",
        "outputId": "3593dd81-148b-489d-b8a7-79362dcc803f"
      },
      "execution_count": null,
      "outputs": [
        {
          "output_type": "stream",
          "name": "stdout",
          "text": [
            "[[104   0   2   0   2]\n",
            " [  2  73   0   4   0]\n",
            " [  2   0  81   1   2]\n",
            " [  0   0   0 101   0]\n",
            " [  0   0   2   1  70]]\n"
          ]
        }
      ]
    },
    {
      "cell_type": "code",
      "source": [],
      "metadata": {
        "id": "ro9FRNygn2yF"
      },
      "execution_count": null,
      "outputs": []
    }
  ],
  "metadata": {
    "colab": {
      "provenance": []
    },
    "kernelspec": {
      "display_name": "Python 3",
      "name": "python3"
    },
    "language_info": {
      "name": "python"
    }
  },
  "nbformat": 4,
  "nbformat_minor": 0
}